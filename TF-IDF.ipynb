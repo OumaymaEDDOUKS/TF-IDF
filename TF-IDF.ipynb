{
 "cells": [
  {
   "cell_type": "markdown",
   "id": "b89ee9e2",
   "metadata": {},
   "source": [
    "## BBC"
   ]
  },
  {
   "cell_type": "code",
   "execution_count": 43,
   "id": "add27b02",
   "metadata": {},
   "outputs": [],
   "source": [
    "import pandas as pd\n",
    "\n",
    "import numpy as np\n",
    "\n",
    "from matplotlib import pyplot as plt\n",
    "\n",
    "import nltk\n",
    "from nltk.stem import PorterStemmer\n",
    "from nltk.tokenize import word_tokenize\n",
    "\n",
    "import seaborn as sns\n",
    "import os"
   ]
  },
  {
   "cell_type": "code",
   "execution_count": 44,
   "id": "baf13c7b",
   "metadata": {},
   "outputs": [
    {
     "data": {
      "text/html": [
       "<div>\n",
       "<style scoped>\n",
       "    .dataframe tbody tr th:only-of-type {\n",
       "        vertical-align: middle;\n",
       "    }\n",
       "\n",
       "    .dataframe tbody tr th {\n",
       "        vertical-align: top;\n",
       "    }\n",
       "\n",
       "    .dataframe thead th {\n",
       "        text-align: right;\n",
       "    }\n",
       "</style>\n",
       "<table border=\"1\" class=\"dataframe\">\n",
       "  <thead>\n",
       "    <tr style=\"text-align: right;\">\n",
       "      <th></th>\n",
       "      <th>category</th>\n",
       "      <th>text</th>\n",
       "    </tr>\n",
       "  </thead>\n",
       "  <tbody>\n",
       "    <tr>\n",
       "      <th>0</th>\n",
       "      <td>tech</td>\n",
       "      <td>tv future in the hands of viewers with home th...</td>\n",
       "    </tr>\n",
       "    <tr>\n",
       "      <th>1</th>\n",
       "      <td>business</td>\n",
       "      <td>worldcom boss  left books alone  former worldc...</td>\n",
       "    </tr>\n",
       "    <tr>\n",
       "      <th>2</th>\n",
       "      <td>sport</td>\n",
       "      <td>tigers wary of farrell  gamble  leicester say ...</td>\n",
       "    </tr>\n",
       "    <tr>\n",
       "      <th>3</th>\n",
       "      <td>sport</td>\n",
       "      <td>yeading face newcastle in fa cup premiership s...</td>\n",
       "    </tr>\n",
       "    <tr>\n",
       "      <th>4</th>\n",
       "      <td>entertainment</td>\n",
       "      <td>ocean s twelve raids box office ocean s twelve...</td>\n",
       "    </tr>\n",
       "  </tbody>\n",
       "</table>\n",
       "</div>"
      ],
      "text/plain": [
       "        category                                               text\n",
       "0           tech  tv future in the hands of viewers with home th...\n",
       "1       business  worldcom boss  left books alone  former worldc...\n",
       "2          sport  tigers wary of farrell  gamble  leicester say ...\n",
       "3          sport  yeading face newcastle in fa cup premiership s...\n",
       "4  entertainment  ocean s twelve raids box office ocean s twelve..."
      ]
     },
     "execution_count": 44,
     "metadata": {},
     "output_type": "execute_result"
    }
   ],
   "source": [
    "\n",
    "df= pd.read_csv('bbc.csv')\n",
    "df.head()"
   ]
  },
  {
   "cell_type": "code",
   "execution_count": 45,
   "id": "38943890",
   "metadata": {},
   "outputs": [
    {
     "name": "stdout",
     "output_type": "stream",
     "text": [
      "<class 'pandas.core.frame.DataFrame'>\n",
      "RangeIndex: 2225 entries, 0 to 2224\n",
      "Data columns (total 2 columns):\n",
      " #   Column    Non-Null Count  Dtype \n",
      "---  ------    --------------  ----- \n",
      " 0   category  2225 non-null   object\n",
      " 1   text      2225 non-null   object\n",
      "dtypes: object(2)\n",
      "memory usage: 34.9+ KB\n"
     ]
    }
   ],
   "source": [
    "df.info()\n"
   ]
  },
  {
   "cell_type": "markdown",
   "id": "bed5f219",
   "metadata": {},
   "source": [
    "## Preprocessing"
   ]
  },
  {
   "cell_type": "code",
   "execution_count": 46,
   "id": "bc15ac5e",
   "metadata": {},
   "outputs": [
    {
     "data": {
      "image/png": "[encoded data removed]",
      "text/plain": [
       "<Figure size 640x480 with 1 Axes>"
      ]
     },
     "metadata": {},
     "output_type": "display_data"
    }
   ],
   "source": [
    "# Convert 'category' column to categorical data type\n",
    "df['category'] = pd.Categorical(df['category'])\n",
    "\n",
    "# Plot the count\n",
    "sns.countplot(data=df, x='category')\n",
    "plt.xlabel('Category')\n",
    "plt.title('CountPlot')\n",
    "plt.show()"
   ]
  },
  {
   "cell_type": "code",
   "execution_count": 47,
   "id": "7730f1b3",
   "metadata": {},
   "outputs": [
    {
     "name": "stderr",
     "output_type": "stream",
     "text": [
      "[nltk_data] Downloading package stopwords to\n",
      "[nltk_data]     C:\\Users\\lenovo\\AppData\\Roaming\\nltk_data...\n",
      "[nltk_data]   Package stopwords is already up-to-date!\n"
     ]
    }
   ],
   "source": [
    "# Transform the 'text' column to lowercase\n",
    "\n",
    "df['text'] = df['text'].str.lower()\n",
    "\n",
    "\n",
    "#removing stop words\n",
    "nltk.download('stopwords')\n",
    "stopwords = nltk.corpus.stopwords.words('english')\n",
    "df['text'] = df['text'].apply(lambda x:' '.join([word for word in x.split() if word not in (stopwords)]))\n",
    "\n"
   ]
  },
  {
   "cell_type": "code",
   "execution_count": 48,
   "id": "74293e0e",
   "metadata": {},
   "outputs": [
    {
     "data": {
      "text/html": [
       "<div>\n",
       "<style scoped>\n",
       "    .dataframe tbody tr th:only-of-type {\n",
       "        vertical-align: middle;\n",
       "    }\n",
       "\n",
       "    .dataframe tbody tr th {\n",
       "        vertical-align: top;\n",
       "    }\n",
       "\n",
       "    .dataframe thead th {\n",
       "        text-align: right;\n",
       "    }\n",
       "</style>\n",
       "<table border=\"1\" class=\"dataframe\">\n",
       "  <thead>\n",
       "    <tr style=\"text-align: right;\">\n",
       "      <th></th>\n",
       "      <th>category</th>\n",
       "      <th>text</th>\n",
       "    </tr>\n",
       "  </thead>\n",
       "  <tbody>\n",
       "    <tr>\n",
       "      <th>0</th>\n",
       "      <td>tech</td>\n",
       "      <td>tv future hands viewers home theatre systems p...</td>\n",
       "    </tr>\n",
       "    <tr>\n",
       "      <th>1</th>\n",
       "      <td>business</td>\n",
       "      <td>worldcom boss left books alone former worldcom...</td>\n",
       "    </tr>\n",
       "    <tr>\n",
       "      <th>2</th>\n",
       "      <td>sport</td>\n",
       "      <td>tigers wary farrell gamble leicester say rushe...</td>\n",
       "    </tr>\n",
       "    <tr>\n",
       "      <th>3</th>\n",
       "      <td>sport</td>\n",
       "      <td>yeading face newcastle fa cup premiership side...</td>\n",
       "    </tr>\n",
       "    <tr>\n",
       "      <th>4</th>\n",
       "      <td>entertainment</td>\n",
       "      <td>ocean twelve raids box office ocean twelve cri...</td>\n",
       "    </tr>\n",
       "    <tr>\n",
       "      <th>...</th>\n",
       "      <td>...</td>\n",
       "      <td>...</td>\n",
       "    </tr>\n",
       "    <tr>\n",
       "      <th>2220</th>\n",
       "      <td>business</td>\n",
       "      <td>cars pull us retail figures us retail sales fe...</td>\n",
       "    </tr>\n",
       "    <tr>\n",
       "      <th>2221</th>\n",
       "      <td>politics</td>\n",
       "      <td>kilroy unveils immigration policy ex-chatshow ...</td>\n",
       "    </tr>\n",
       "    <tr>\n",
       "      <th>2222</th>\n",
       "      <td>entertainment</td>\n",
       "      <td>rem announce new glasgow concert us band rem a...</td>\n",
       "    </tr>\n",
       "    <tr>\n",
       "      <th>2223</th>\n",
       "      <td>politics</td>\n",
       "      <td>political squabbles snowball become commonplac...</td>\n",
       "    </tr>\n",
       "    <tr>\n",
       "      <th>2224</th>\n",
       "      <td>sport</td>\n",
       "      <td>souness delight euro progress boss graeme soun...</td>\n",
       "    </tr>\n",
       "  </tbody>\n",
       "</table>\n",
       "<p>2225 rows × 2 columns</p>\n",
       "</div>"
      ],
      "text/plain": [
       "           category                                               text\n",
       "0              tech  tv future hands viewers home theatre systems p...\n",
       "1          business  worldcom boss left books alone former worldcom...\n",
       "2             sport  tigers wary farrell gamble leicester say rushe...\n",
       "3             sport  yeading face newcastle fa cup premiership side...\n",
       "4     entertainment  ocean twelve raids box office ocean twelve cri...\n",
       "...             ...                                                ...\n",
       "2220       business  cars pull us retail figures us retail sales fe...\n",
       "2221       politics  kilroy unveils immigration policy ex-chatshow ...\n",
       "2222  entertainment  rem announce new glasgow concert us band rem a...\n",
       "2223       politics  political squabbles snowball become commonplac...\n",
       "2224          sport  souness delight euro progress boss graeme soun...\n",
       "\n",
       "[2225 rows x 2 columns]"
      ]
     },
     "execution_count": 48,
     "metadata": {},
     "output_type": "execute_result"
    }
   ],
   "source": [
    "df"
   ]
  },
  {
   "cell_type": "code",
   "execution_count": 49,
   "id": "1529d78f",
   "metadata": {},
   "outputs": [],
   "source": [
    "#train test split\n",
    "from sklearn.model_selection import train_test_split\n",
    "\n",
    "X_train, X_test, y_train, y_test = train_test_split(df['text'], df['category'], test_size=0.2, random_state=42)\n"
   ]
  },
  {
   "cell_type": "markdown",
   "id": "409aa602",
   "metadata": {},
   "source": [
    "##  Feature Extraction( TF-IDF )"
   ]
  },
  {
   "cell_type": "code",
   "execution_count": 50,
   "id": "37b2dbbf",
   "metadata": {},
   "outputs": [],
   "source": [
    "from sklearn.feature_extraction.text import TfidfVectorizer"
   ]
  },
  {
   "cell_type": "code",
   "execution_count": 51,
   "id": "0d69e7c6",
   "metadata": {},
   "outputs": [],
   "source": [
    "tfidf = vectorizer.fit_transform(df['text'])"
   ]
  },
  {
   "cell_type": "code",
   "execution_count": 52,
   "id": "e2a9dbfa",
   "metadata": {},
   "outputs": [],
   "source": [
    "\n",
    "from sklearn.model_selection import train_test_split\n",
    "x_train,x_test,y_train,y_test=train_test_split(tfidf,df['category'],random_state=0,test_size=0.25)\n",
    "\n",
    "from sklearn import svm\n",
    "# Create an instance of the SVM classifier\n",
    "svm_classifier = svm.SVC(C=1.0, kernel='linear')\n",
    "\n",
    "# Train the SVM classifier on the training data\n",
    "svm_classifier.fit(x_train, y_train)\n",
    "\n",
    "# Predict the class labels for the test data\n",
    "predicted_labels = svm_classifier.predict(x_test)\n"
   ]
  },
  {
   "cell_type": "code",
   "execution_count": 53,
   "id": "0b57d729",
   "metadata": {},
   "outputs": [
    {
     "name": "stdout",
     "output_type": "stream",
     "text": [
      "SVM Accuracy Score ->  98.74326750448833\n"
     ]
    }
   ],
   "source": [
    "# Evaluate the performance of the classifier\n",
    "from sklearn.metrics import accuracy_score\n",
    "\n",
    "print(\"SVM Accuracy Score -> \",accuracy_score(predicted_labels, y_test)*100)"
   ]
  },
  {
   "cell_type": "code",
   "execution_count": 54,
   "id": "08fd8b5f",
   "metadata": {},
   "outputs": [
    {
     "name": "stdout",
     "output_type": "stream",
     "text": [
      "               precision    recall  f1-score   support\n",
      "\n",
      "     business       0.99      0.98      0.99       126\n",
      "entertainment       0.97      0.99      0.98        95\n",
      "     politics       0.99      0.97      0.98        94\n",
      "        sport       1.00      1.00      1.00       147\n",
      "         tech       0.98      0.99      0.98        95\n",
      "\n",
      "     accuracy                           0.99       557\n",
      "    macro avg       0.99      0.99      0.99       557\n",
      " weighted avg       0.99      0.99      0.99       557\n",
      "\n"
     ]
    }
   ],
   "source": [
    "from sklearn.metrics import classification_report\n",
    "# Calculate precision, recall, and F-measure\n",
    "report = classification_report(y_test, predicted_labels)\n",
    "print(report)"
   ]
  },
  {
   "cell_type": "markdown",
   "id": "e6693b71",
   "metadata": {},
   "source": [
    "## 20 Newsgroup \n"
   ]
  },
  {
   "cell_type": "code",
   "execution_count": 55,
   "id": "65b4f89d",
   "metadata": {},
   "outputs": [
    {
     "data": {
      "text/html": [
       "<div>\n",
       "<style scoped>\n",
       "    .dataframe tbody tr th:only-of-type {\n",
       "        vertical-align: middle;\n",
       "    }\n",
       "\n",
       "    .dataframe tbody tr th {\n",
       "        vertical-align: top;\n",
       "    }\n",
       "\n",
       "    .dataframe thead th {\n",
       "        text-align: right;\n",
       "    }\n",
       "</style>\n",
       "<table border=\"1\" class=\"dataframe\">\n",
       "  <thead>\n",
       "    <tr style=\"text-align: right;\">\n",
       "      <th></th>\n",
       "      <th>folder</th>\n",
       "      <th>document</th>\n",
       "    </tr>\n",
       "  </thead>\n",
       "  <tbody>\n",
       "    <tr>\n",
       "      <th>0</th>\n",
       "      <td>comp.graphics</td>\n",
       "      <td>Xref: cantaloupe.srv.cs.cmu.edu comp.graphics:...</td>\n",
       "    </tr>\n",
       "    <tr>\n",
       "      <th>1</th>\n",
       "      <td>comp.graphics</td>\n",
       "      <td>Path: cantaloupe.srv.cs.cmu.edu!crabapple.srv....</td>\n",
       "    </tr>\n",
       "    <tr>\n",
       "      <th>2</th>\n",
       "      <td>comp.graphics</td>\n",
       "      <td>Path: cantaloupe.srv.cs.cmu.edu!das-news.harva...</td>\n",
       "    </tr>\n",
       "    <tr>\n",
       "      <th>3</th>\n",
       "      <td>comp.graphics</td>\n",
       "      <td>Xref: cantaloupe.srv.cs.cmu.edu comp.human-fac...</td>\n",
       "    </tr>\n",
       "    <tr>\n",
       "      <th>4</th>\n",
       "      <td>comp.graphics</td>\n",
       "      <td>Path: cantaloupe.srv.cs.cmu.edu!crabapple.srv....</td>\n",
       "    </tr>\n",
       "    <tr>\n",
       "      <th>...</th>\n",
       "      <td>...</td>\n",
       "      <td>...</td>\n",
       "    </tr>\n",
       "    <tr>\n",
       "      <th>4992</th>\n",
       "      <td>talk.politics.guns</td>\n",
       "      <td>Xref: cantaloupe.srv.cs.cmu.edu alt.politics.u...</td>\n",
       "    </tr>\n",
       "    <tr>\n",
       "      <th>4993</th>\n",
       "      <td>talk.politics.guns</td>\n",
       "      <td>Newsgroups: talk.politics.guns\\nPath: cantalou...</td>\n",
       "    </tr>\n",
       "    <tr>\n",
       "      <th>4994</th>\n",
       "      <td>talk.politics.guns</td>\n",
       "      <td>Xref: cantaloupe.srv.cs.cmu.edu talk.politics....</td>\n",
       "    </tr>\n",
       "    <tr>\n",
       "      <th>4995</th>\n",
       "      <td>talk.politics.guns</td>\n",
       "      <td>Path: cantaloupe.srv.cs.cmu.edu!magnesium.club...</td>\n",
       "    </tr>\n",
       "    <tr>\n",
       "      <th>4996</th>\n",
       "      <td>talk.politics.guns</td>\n",
       "      <td>Xref: cantaloupe.srv.cs.cmu.edu talk.politics....</td>\n",
       "    </tr>\n",
       "  </tbody>\n",
       "</table>\n",
       "<p>4997 rows × 2 columns</p>\n",
       "</div>"
      ],
      "text/plain": [
       "                  folder                                           document\n",
       "0          comp.graphics  Xref: cantaloupe.srv.cs.cmu.edu comp.graphics:...\n",
       "1          comp.graphics  Path: cantaloupe.srv.cs.cmu.edu!crabapple.srv....\n",
       "2          comp.graphics  Path: cantaloupe.srv.cs.cmu.edu!das-news.harva...\n",
       "3          comp.graphics  Xref: cantaloupe.srv.cs.cmu.edu comp.human-fac...\n",
       "4          comp.graphics  Path: cantaloupe.srv.cs.cmu.edu!crabapple.srv....\n",
       "...                  ...                                                ...\n",
       "4992  talk.politics.guns  Xref: cantaloupe.srv.cs.cmu.edu alt.politics.u...\n",
       "4993  talk.politics.guns  Newsgroups: talk.politics.guns\\nPath: cantalou...\n",
       "4994  talk.politics.guns  Xref: cantaloupe.srv.cs.cmu.edu talk.politics....\n",
       "4995  talk.politics.guns  Path: cantaloupe.srv.cs.cmu.edu!magnesium.club...\n",
       "4996  talk.politics.guns  Xref: cantaloupe.srv.cs.cmu.edu talk.politics....\n",
       "\n",
       "[4997 rows x 2 columns]"
      ]
     },
     "execution_count": 55,
     "metadata": {},
     "output_type": "execute_result"
    }
   ],
   "source": [
    "import os\n",
    "import pandas as pd\n",
    "folders=sorted(os.listdir(os.path.join('C:/Users/lenovo/Desktop/20'))) \n",
    "\n",
    "data = []\n",
    "\n",
    "for folder in folders:\n",
    "    for file in os.listdir(os.path.join('20', folder)):\n",
    "        with open(os.path.join('20', folder, file), encoding='latin-1') as opened_file:\n",
    "            data.append({'folder': folder, 'document': opened_file.read()})\n",
    "df = pd.DataFrame(data)\n",
    "df"
   ]
  },
  {
   "cell_type": "markdown",
   "id": "fef4c924",
   "metadata": {},
   "source": [
    "## Preprocessing"
   ]
  },
  {
   "cell_type": "code",
   "execution_count": 56,
   "id": "b33c1d11",
   "metadata": {},
   "outputs": [],
   "source": [
    "import re\n",
    "\n",
    "def remove_headers(text):\n",
    "    header_end = text.find('\\n\\n')\n",
    "    if header_end != -1:\n",
    "        text = text[header_end:]\n",
    "\n",
    "    text = re.sub(r'\\S+@\\S+', '', text)\n",
    "\n",
    "    return text\n",
    "\n",
    "df['document'] = df['document'].apply(remove_headers)\n"
   ]
  },
  {
   "cell_type": "code",
   "execution_count": 57,
   "id": "a111504b",
   "metadata": {},
   "outputs": [
    {
     "name": "stderr",
     "output_type": "stream",
     "text": [
      "[nltk_data] Downloading package stopwords to\n",
      "[nltk_data]     C:\\Users\\lenovo\\AppData\\Roaming\\nltk_data...\n",
      "[nltk_data]   Package stopwords is already up-to-date!\n"
     ]
    }
   ],
   "source": [
    "df['document'] = df['document'].apply(lambda x: x.lower())\n",
    "import nltk\n",
    "from nltk.corpus import stopwords\n",
    "\n",
    "nltk.download('stopwords')\n",
    "\n",
    "# Get the list of stopwords\n",
    "stop_words = set(stopwords.words('english'))\n",
    "\n",
    "# Function to remove stopwords from a text\n",
    "def remove_stopwords(text):\n",
    "    tokens = text.split()\n",
    "    filtered_tokens = [token for token in tokens if token.lower() not in stop_words]\n",
    "    return ' '.join(filtered_tokens)\n",
    "\n",
    "# Remove stopwords from the 'document' column\n",
    "df['document'] = df['document'].apply(remove_stopwords)\n"
   ]
  },
  {
   "cell_type": "markdown",
   "id": "266a13ff",
   "metadata": {},
   "source": [
    "## ##  Feature Extraction( TF-IDF )"
   ]
  },
  {
   "cell_type": "code",
   "execution_count": 58,
   "id": "c860e556",
   "metadata": {},
   "outputs": [],
   "source": [
    "from sklearn.feature_extraction.text import TfidfVectorizer\n",
    "\n",
    "# Create an instance of TfidfVectorizer\n",
    "vectorizer = TfidfVectorizer()\n",
    "\n",
    "# Apply TF-IDF transformation to the 'document' column\n",
    "tfidf = vectorizer.fit_transform(df['document'])\n",
    "\n"
   ]
  },
  {
   "cell_type": "code",
   "execution_count": 59,
   "id": "09949190",
   "metadata": {},
   "outputs": [],
   "source": [
    "\n",
    "from sklearn.model_selection import train_test_split\n",
    "x_train,x_test,y_train,y_test=train_test_split(tfidf,df['folder'],random_state=0,test_size=0.25)\n",
    "\n",
    "from sklearn import svm\n",
    "# Create an instance of the SVM classifier\n",
    "svm_classifier = svm.SVC(C=1.0, kernel='linear')\n",
    "\n",
    "# Train the SVM classifier on the training data\n",
    "svm_classifier.fit(x_train, y_train)\n",
    "\n",
    "# Predict the class labels for the test data\n",
    "predicted_labels = svm_classifier.predict(x_test)\n"
   ]
  },
  {
   "cell_type": "code",
   "execution_count": 60,
   "id": "bfbea8c6",
   "metadata": {},
   "outputs": [
    {
     "name": "stdout",
     "output_type": "stream",
     "text": [
      "SVM Accuracy Score ->  96.96000000000001\n"
     ]
    }
   ],
   "source": [
    "# Evaluate the performance of the classifier\n",
    "from sklearn.metrics import accuracy_score\n",
    "\n",
    "print(\"SVM Accuracy Score -> \",accuracy_score(predicted_labels, y_test)*100)"
   ]
  },
  {
   "cell_type": "code",
   "execution_count": 61,
   "id": "357c2232",
   "metadata": {},
   "outputs": [
    {
     "name": "stdout",
     "output_type": "stream",
     "text": [
      "                        precision    recall  f1-score   support\n",
      "\n",
      "         comp.graphics       0.94      0.98      0.96       245\n",
      "          misc.forsale       0.94      0.97      0.95       257\n",
      "    rec.sport.baseball       1.00      0.97      0.98       250\n",
      "soc.religion.christian       0.99      0.95      0.97       242\n",
      "    talk.politics.guns       0.99      0.97      0.98       256\n",
      "\n",
      "              accuracy                           0.97      1250\n",
      "             macro avg       0.97      0.97      0.97      1250\n",
      "          weighted avg       0.97      0.97      0.97      1250\n",
      "\n"
     ]
    }
   ],
   "source": [
    "from sklearn.metrics import classification_report\n",
    "# Calculate precision, recall, and F-measure\n",
    "report = classification_report(y_test, predicted_labels)\n",
    "print(report)"
   ]
  }
 ],
 "metadata": {
  "kernelspec": {
   "display_name": "Python 3 (ipykernel)",
   "language": "python",
   "name": "python3"
  },
  "language_info": {
   "codemirror_mode": {
    "name": "ipython",
    "version": 3
   },
   "file_extension": ".py",
   "mimetype": "text/x-python",
   "name": "python",
   "nbconvert_exporter": "python",
   "pygments_lexer": "ipython3",
   "version": "3.10.9"
  }
 },
 "nbformat": 4,
 "nbformat_minor": 5
}
